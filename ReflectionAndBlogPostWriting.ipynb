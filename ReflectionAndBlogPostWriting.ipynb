{
  "nbformat": 4,
  "nbformat_minor": 0,
  "metadata": {
    "colab": {
      "provenance": [],
      "authorship_tag": "ABX9TyNwTKL6+yxaUGrBwh/M3Gut",
      "include_colab_link": true
    },
    "kernelspec": {
      "name": "python3",
      "display_name": "Python 3"
    },
    "language_info": {
      "name": "python"
    }
  },
  "cells": [
    {
      "cell_type": "markdown",
      "metadata": {
        "id": "view-in-github",
        "colab_type": "text"
      },
      "source": [
        "<a href=\"https://colab.research.google.com/github/zainikhan999/blog_writing_agents/blob/main/ReflectionAndBlogPostWriting.ipynb\" target=\"_parent\"><img src=\"https://colab.research.google.com/assets/colab-badge.svg\" alt=\"Open In Colab\"/></a>"
      ]
    },
    {
      "cell_type": "markdown",
      "source": [
        "# **Blog writer**"
      ],
      "metadata": {
        "id": "AdN_trWswQ5e"
      }
    },
    {
      "cell_type": "code",
      "source": [
        "!pip install autogen\n"
      ],
      "metadata": {
        "colab": {
          "base_uri": "https://localhost:8080/"
        },
        "id": "bkay-albdmE6",
        "outputId": "7e1065fb-349f-46ff-8440-f3a62ee3b10a"
      },
      "execution_count": 1,
      "outputs": [
        {
          "output_type": "stream",
          "name": "stdout",
          "text": [
            "Collecting autogen\n",
            "  Downloading autogen-0.7.3-py3-none-any.whl.metadata (22 kB)\n",
            "Collecting pyautogen==0.7.3 (from autogen)\n",
            "  Downloading pyautogen-0.7.3-py3-none-any.whl.metadata (31 kB)\n",
            "Collecting asyncer==0.0.8 (from pyautogen==0.7.3->autogen)\n",
            "  Downloading asyncer-0.0.8-py3-none-any.whl.metadata (6.7 kB)\n",
            "Collecting diskcache (from pyautogen==0.7.3->autogen)\n",
            "  Downloading diskcache-5.6.3-py3-none-any.whl.metadata (20 kB)\n",
            "Collecting docker (from pyautogen==0.7.3->autogen)\n",
            "  Downloading docker-7.1.0-py3-none-any.whl.metadata (3.8 kB)\n",
            "Collecting fast-depends<3,>=2.4.12 (from pyautogen==0.7.3->autogen)\n",
            "  Downloading fast_depends-2.4.12-py3-none-any.whl.metadata (7.6 kB)\n",
            "Requirement already satisfied: numpy in /usr/local/lib/python3.11/dist-packages (from pyautogen==0.7.3->autogen) (1.26.4)\n",
            "Requirement already satisfied: openai>=1.58 in /usr/local/lib/python3.11/dist-packages (from pyautogen==0.7.3->autogen) (1.59.9)\n",
            "Requirement already satisfied: packaging in /usr/local/lib/python3.11/dist-packages (from pyautogen==0.7.3->autogen) (24.2)\n",
            "Requirement already satisfied: pydantic<3,>=2.6.1 in /usr/local/lib/python3.11/dist-packages (from pyautogen==0.7.3->autogen) (2.10.6)\n",
            "Collecting python-dotenv (from pyautogen==0.7.3->autogen)\n",
            "  Downloading python_dotenv-1.0.1-py3-none-any.whl.metadata (23 kB)\n",
            "Requirement already satisfied: termcolor in /usr/local/lib/python3.11/dist-packages (from pyautogen==0.7.3->autogen) (2.5.0)\n",
            "Collecting tiktoken (from pyautogen==0.7.3->autogen)\n",
            "  Downloading tiktoken-0.8.0-cp311-cp311-manylinux_2_17_x86_64.manylinux2014_x86_64.whl.metadata (6.6 kB)\n",
            "Requirement already satisfied: websockets<15,>=14 in /usr/local/lib/python3.11/dist-packages (from pyautogen==0.7.3->autogen) (14.2)\n",
            "Requirement already satisfied: anyio<5.0,>=3.4.0 in /usr/local/lib/python3.11/dist-packages (from asyncer==0.0.8->pyautogen==0.7.3->autogen) (3.7.1)\n",
            "Requirement already satisfied: distro<2,>=1.7.0 in /usr/local/lib/python3.11/dist-packages (from openai>=1.58->pyautogen==0.7.3->autogen) (1.9.0)\n",
            "Requirement already satisfied: httpx<1,>=0.23.0 in /usr/local/lib/python3.11/dist-packages (from openai>=1.58->pyautogen==0.7.3->autogen) (0.28.1)\n",
            "Requirement already satisfied: jiter<1,>=0.4.0 in /usr/local/lib/python3.11/dist-packages (from openai>=1.58->pyautogen==0.7.3->autogen) (0.8.2)\n",
            "Requirement already satisfied: sniffio in /usr/local/lib/python3.11/dist-packages (from openai>=1.58->pyautogen==0.7.3->autogen) (1.3.1)\n",
            "Requirement already satisfied: tqdm>4 in /usr/local/lib/python3.11/dist-packages (from openai>=1.58->pyautogen==0.7.3->autogen) (4.67.1)\n",
            "Requirement already satisfied: typing-extensions<5,>=4.11 in /usr/local/lib/python3.11/dist-packages (from openai>=1.58->pyautogen==0.7.3->autogen) (4.12.2)\n",
            "Requirement already satisfied: annotated-types>=0.6.0 in /usr/local/lib/python3.11/dist-packages (from pydantic<3,>=2.6.1->pyautogen==0.7.3->autogen) (0.7.0)\n",
            "Requirement already satisfied: pydantic-core==2.27.2 in /usr/local/lib/python3.11/dist-packages (from pydantic<3,>=2.6.1->pyautogen==0.7.3->autogen) (2.27.2)\n",
            "Requirement already satisfied: requests>=2.26.0 in /usr/local/lib/python3.11/dist-packages (from docker->pyautogen==0.7.3->autogen) (2.32.3)\n",
            "Requirement already satisfied: urllib3>=1.26.0 in /usr/local/lib/python3.11/dist-packages (from docker->pyautogen==0.7.3->autogen) (2.3.0)\n",
            "Requirement already satisfied: regex>=2022.1.18 in /usr/local/lib/python3.11/dist-packages (from tiktoken->pyautogen==0.7.3->autogen) (2024.11.6)\n",
            "Requirement already satisfied: idna>=2.8 in /usr/local/lib/python3.11/dist-packages (from anyio<5.0,>=3.4.0->asyncer==0.0.8->pyautogen==0.7.3->autogen) (3.10)\n",
            "Requirement already satisfied: certifi in /usr/local/lib/python3.11/dist-packages (from httpx<1,>=0.23.0->openai>=1.58->pyautogen==0.7.3->autogen) (2024.12.14)\n",
            "Requirement already satisfied: httpcore==1.* in /usr/local/lib/python3.11/dist-packages (from httpx<1,>=0.23.0->openai>=1.58->pyautogen==0.7.3->autogen) (1.0.7)\n",
            "Requirement already satisfied: h11<0.15,>=0.13 in /usr/local/lib/python3.11/dist-packages (from httpcore==1.*->httpx<1,>=0.23.0->openai>=1.58->pyautogen==0.7.3->autogen) (0.14.0)\n",
            "Requirement already satisfied: charset-normalizer<4,>=2 in /usr/local/lib/python3.11/dist-packages (from requests>=2.26.0->docker->pyautogen==0.7.3->autogen) (3.4.1)\n",
            "Downloading autogen-0.7.3-py3-none-any.whl (13 kB)\n",
            "Downloading pyautogen-0.7.3-py3-none-any.whl (562 kB)\n",
            "\u001b[2K   \u001b[90m━━━━━━━━━━━━━━━━━━━━━━━━━━━━━━━━━━━━━━━━\u001b[0m \u001b[32m562.5/562.5 kB\u001b[0m \u001b[31m10.7 MB/s\u001b[0m eta \u001b[36m0:00:00\u001b[0m\n",
            "\u001b[?25hDownloading asyncer-0.0.8-py3-none-any.whl (9.2 kB)\n",
            "Downloading fast_depends-2.4.12-py3-none-any.whl (17 kB)\n",
            "Downloading diskcache-5.6.3-py3-none-any.whl (45 kB)\n",
            "\u001b[2K   \u001b[90m━━━━━━━━━━━━━━━━━━━━━━━━━━━━━━━━━━━━━━━━\u001b[0m \u001b[32m45.5/45.5 kB\u001b[0m \u001b[31m2.9 MB/s\u001b[0m eta \u001b[36m0:00:00\u001b[0m\n",
            "\u001b[?25hDownloading docker-7.1.0-py3-none-any.whl (147 kB)\n",
            "\u001b[2K   \u001b[90m━━━━━━━━━━━━━━━━━━━━━━━━━━━━━━━━━━━━━━━━\u001b[0m \u001b[32m147.8/147.8 kB\u001b[0m \u001b[31m5.5 MB/s\u001b[0m eta \u001b[36m0:00:00\u001b[0m\n",
            "\u001b[?25hDownloading python_dotenv-1.0.1-py3-none-any.whl (19 kB)\n",
            "Downloading tiktoken-0.8.0-cp311-cp311-manylinux_2_17_x86_64.manylinux2014_x86_64.whl (1.2 MB)\n",
            "\u001b[2K   \u001b[90m━━━━━━━━━━━━━━━━━━━━━━━━━━━━━━━━━━━━━━━━\u001b[0m \u001b[32m1.2/1.2 MB\u001b[0m \u001b[31m31.4 MB/s\u001b[0m eta \u001b[36m0:00:00\u001b[0m\n",
            "\u001b[?25hInstalling collected packages: python-dotenv, diskcache, tiktoken, docker, asyncer, fast-depends, pyautogen, autogen\n",
            "Successfully installed asyncer-0.0.8 autogen-0.7.3 diskcache-5.6.3 docker-7.1.0 fast-depends-2.4.12 pyautogen-0.7.3 python-dotenv-1.0.1 tiktoken-0.8.0\n"
          ]
        }
      ]
    },
    {
      "cell_type": "code",
      "source": [
        "import time\n",
        "import autogen\n"
      ],
      "metadata": {
        "id": "VbTSgKtoanmp"
      },
      "execution_count": 42,
      "outputs": []
    },
    {
      "cell_type": "code",
      "source": [
        "from google.colab import userdata\n",
        "deep_seek=userdata.get('DEEP_SEEK_API')"
      ],
      "metadata": {
        "id": "GUKal13ivA8M"
      },
      "execution_count": 43,
      "outputs": []
    },
    {
      "cell_type": "code",
      "source": [
        "\n",
        "# Define LLM configuration\n",
        "llm_config = {\n",
        "    \"config_list\": [\n",
        "        {\n",
        "            \"model\": \"deepseek/deepseek-r1\",\n",
        "            \"api_key\": deep_seek,  # Replace with actual API key\n",
        "            \"base_url\": \"https://openrouter.ai/api/v1\",\n",
        "            \"price\": [0, 0],\n",
        "        }\n",
        "    ],\n",
        "    \"temperature\": 0.7,\n",
        "    \"max_tokens\": 1000\n",
        "}\n",
        "\n"
      ],
      "metadata": {
        "id": "11ajZU42ajzr"
      },
      "execution_count": 44,
      "outputs": []
    },
    {
      "cell_type": "code",
      "source": [
        "# Initialize the Assistant agent\n",
        "writer = autogen.AssistantAgent(name=\"writer\",\n",
        "                                     system_message=\"You are a writer. You write engaging and concise \"\n",
        "        \"blogpost (with title) on given topics. You must polish your \"\n",
        "        \"writing based on the feedback you receive and give a refined \"\n",
        "        \"version. Only return your final work without additional comments.\",\n",
        "    llm_config=llm_config,)"
      ],
      "metadata": {
        "id": "zxQjg3esa2NN"
      },
      "execution_count": 45,
      "outputs": []
    },
    {
      "cell_type": "code",
      "source": [
        "task = '''\n",
        "        Write a concise but engaging blogpost about\n",
        "       DeepLearning.AI. Make sure the blogpost is\n",
        "       within 100 words.\n",
        "       '''"
      ],
      "metadata": {
        "id": "squow0cGbPww"
      },
      "execution_count": 46,
      "outputs": []
    },
    {
      "cell_type": "code",
      "source": [
        "reply = writer.generate_reply(messages=[{\"content\": task, \"role\": \"user\"}])"
      ],
      "metadata": {
        "id": "kiIyLNWsbFcT"
      },
      "execution_count": 47,
      "outputs": []
    },
    {
      "cell_type": "code",
      "source": [
        "print(reply)\n"
      ],
      "metadata": {
        "colab": {
          "base_uri": "https://localhost:8080/"
        },
        "id": "XDFq_4HicCSg",
        "outputId": "55a7e1da-53df-4537-9280-ca8685a8dd29"
      },
      "execution_count": 48,
      "outputs": [
        {
          "output_type": "stream",
          "name": "stdout",
          "text": [
            "**Unlock the Future: Learn AI with DeepLearning.AI**  \n",
            "In an era where artificial intelligence reshapes industries, DeepLearning.AI stands as a beacon for learners worldwide. Founded by Andrew Ng, a trailblazer in machine learning, this platform offers dynamic courses—from introductory deep learning to specialized tracks in NLP and healthcare AI. Hosted on Coursera, their programs combine rigorous theory with real-world projects, guided by industry experts. Whether you're a novice or a seasoned pro, DeepLearning.AI equips you with skills to innovate and lead. Join a global community pushing AI's boundaries. Start your journey today—the future awaits.  \n",
            "\n",
            "(Word count: 99)\n"
          ]
        }
      ]
    },
    {
      "cell_type": "markdown",
      "source": [
        "# Adding Reflection"
      ],
      "metadata": {
        "id": "q2g-hJRJ1hDw"
      }
    },
    {
      "cell_type": "code",
      "source": [
        "critic = autogen.AssistantAgent(\n",
        "    name=\"Critic\",\n",
        "    is_termination_msg=lambda x: x.get(\"content\", \"\").find(\"TERMINATE\") >= 0,\n",
        "    llm_config=llm_config,\n",
        "    system_message=\"You are a critic. You review the work of \"\n",
        "                \"the writer and provide constructive \"\n",
        "                \"feedback to help improve the quality of the content.\",\n",
        ")"
      ],
      "metadata": {
        "id": "2-uqutVB1oq7"
      },
      "execution_count": 49,
      "outputs": []
    },
    {
      "cell_type": "code",
      "source": [
        "res = critic.initiate_chat(\n",
        "    recipient=writer,\n",
        "    message=task,\n",
        "    max_turns=2,\n",
        "    summary_method=\"last_msg\"\n",
        ")"
      ],
      "metadata": {
        "colab": {
          "base_uri": "https://localhost:8080/"
        },
        "id": "zUEw67Eh2IQc",
        "outputId": "81a0f776-47d2-4a67-8fd3-27879dbe3ddd"
      },
      "execution_count": 50,
      "outputs": [
        {
          "output_type": "stream",
          "name": "stdout",
          "text": [
            "Critic (to writer):\n",
            "\n",
            "\n",
            "        Write a concise but engaging blogpost about\n",
            "       DeepLearning.AI. Make sure the blogpost is\n",
            "       within 100 words.\n",
            "       \n",
            "\n",
            "--------------------------------------------------------------------------------\n",
            "writer (to Critic):\n",
            "\n",
            "**Unlock AI Expertise with DeepLearning.AI**  \n",
            "Founded by AI visionary Andrew Ng, DeepLearning.AI democratizes cutting-edge AI education through accessible online courses. Hosted on platforms like Coursera, its programs—from the iconic *Deep Learning Specialization* to tailored short courses—equip learners with skills in machine learning, NLP, and neural networks. Whether you’re a novice or a seasoned developer, hands-on projects and industry-relevant curricula bridge theory and practice. Join a global community reshaping healthcare, finance, and beyond with AI innovation. Ready to future-proof your skills? DeepLearning.AI turns curiosity into expertise—one algorithm at a time. Start your journey today. (99 words)\n",
            "\n",
            "--------------------------------------------------------------------------------\n",
            "Critic (to writer):\n",
            "\n",
            "Your blogpost is concise and effectively highlights DeepLearning.AI's strengths. Here’s a refined version with minor tweaks to enhance clarity and impact:\n",
            "\n",
            "---  \n",
            "**Unlock AI Expertise with DeepLearning.AI**  \n",
            "Founded by AI pioneer Andrew Ng, DeepLearning.AI makes cutting-edge AI education accessible to everyone. Through platforms like Coursera, its courses—including the acclaimed *Deep Learning Specialization* and focused short programs—teach machine learning, NLP, and neural networks. Whether you’re a beginner or a pro, hands-on projects and industry-aligned curricula blend theory with real-world application. Join a global network of learners driving AI innovation in healthcare, finance, and more. Ready to future-proof your career? DeepLearning.AI transforms curiosity into mastery—one algorithm at a time. Start learning today. *(98 words)*  \n",
            "\n",
            "---  \n",
            "**Key improvements:**  \n",
            "- Simplified \"democratizes\" to \"makes accessible\" for broader readability.  \n",
            "- Added \"career\" to \"future-proof\" for stronger personal relevance.  \n",
            "- Replaced \"reshaping\" with \"driving innovation\" for active tone.  \n",
            "- Trimmed redundancy (e.g., \"seasoned developer\" → \"pro\") to save words.  \n",
            "- Strengthened closing call-to-action with \"learning\" over \"journey\" for immediacy.  \n",
            "\n",
            "Well done—this is clear, engaging, and action-oriented!\n",
            "\n",
            "--------------------------------------------------------------------------------\n",
            "writer (to Critic):\n",
            "\n",
            "**Unlock AI Expertise with DeepLearning.AI**  \n",
            "Founded by AI pioneer Andrew Ng, DeepLearning.AI makes cutting-edge AI education accessible to everyone. Through platforms like Coursera, its courses—including the acclaimed *Deep Learning Specialization* and focused short programs—teach machine learning, NLP, and neural networks. Whether you’re a beginner or a pro, hands-on projects and industry-aligned curricula blend theory with real-world application. Join a global network of learners driving AI innovation in healthcare, finance, and more. Ready to future-proof your career? DeepLearning.AI transforms curiosity into mastery—one algorithm at a time. Start learning today. *(98 words)*\n",
            "\n",
            "--------------------------------------------------------------------------------\n"
          ]
        }
      ]
    },
    {
      "cell_type": "markdown",
      "source": [
        "#Nested Chat"
      ],
      "metadata": {
        "id": "C1-JYNc52_ou"
      }
    },
    {
      "cell_type": "code",
      "source": [
        "SEO_reviewer = autogen.AssistantAgent(\n",
        "    name=\"SEOReviewer\",\n",
        "    llm_config=llm_config,\n",
        "    system_message=\"You are an SEO reviewer, known for \"\n",
        "        \"your ability to optimize content for search engines, \"\n",
        "        \"ensuring that it ranks well and attracts organic traffic. \"\n",
        "        \"Make sure your suggestion is concise (within 3 bullet points), \"\n",
        "        \"concrete and to the point. \"\n",
        "        \"Begin the review by stating your role.\",\n",
        ")"
      ],
      "metadata": {
        "id": "nQthJaYl2_To"
      },
      "execution_count": 52,
      "outputs": []
    },
    {
      "cell_type": "code",
      "source": [
        "legal_reviewer = autogen.AssistantAgent(\n",
        "    name=\"LegalReviewer\",\n",
        "    llm_config=llm_config,\n",
        "    system_message=\"You are a legal reviewer, known for \"\n",
        "        \"your ability to ensure that content is legally compliant \"\n",
        "        \"and free from any potential legal issues. \"\n",
        "        \"Make sure your suggestion is concise (within 3 bullet points), \"\n",
        "        \"concrete and to the point. \"\n",
        "        \"Begin the review by stating your role.\",\n",
        ")"
      ],
      "metadata": {
        "id": "qfBIO-sG5mVw"
      },
      "execution_count": 59,
      "outputs": []
    },
    {
      "cell_type": "code",
      "source": [
        "ethics_reviewer = autogen.AssistantAgent(\n",
        "    name=\"EthicsReviewer\",\n",
        "    llm_config=llm_config,\n",
        "    system_message=\"You are an ethics reviewer, known for \"\n",
        "        \"your ability to ensure that content is ethically sound \"\n",
        "        \"and free from any potential ethical issues. \"\n",
        "        \"Make sure your suggestion is concise (within 3 bullet points), \"\n",
        "        \"concrete and to the point. \"\n",
        "        \"Begin the review by stating your role. \",\n",
        ")"
      ],
      "metadata": {
        "id": "4OM1FCBw2Mk2"
      },
      "execution_count": 54,
      "outputs": []
    },
    {
      "cell_type": "code",
      "source": [
        "meta_reviewer = autogen.AssistantAgent(\n",
        "    name=\"MetaReviewer\",\n",
        "    llm_config=llm_config,\n",
        "    system_message=\"You are a meta reviewer, you aggragate and review \"\n",
        "    \"the work of other reviewers and give a final suggestion on the content.\",\n",
        ")"
      ],
      "metadata": {
        "id": "VEOMK7ar30hO"
      },
      "execution_count": 56,
      "outputs": []
    },
    {
      "cell_type": "markdown",
      "source": [
        "# Orchestrate the nested chats to solve the task"
      ],
      "metadata": {
        "id": "lKOt4V4l4etd"
      }
    },
    {
      "cell_type": "code",
      "source": [
        "def reflection_message(recipient, messages, sender, config):\n",
        "    return f'''Review the following content.\n",
        "            \\n\\n {recipient.chat_messages_for_summary(sender)[-1]['content']}'''\n",
        "\n",
        "review_chats = [\n",
        "    {\n",
        "     \"recipient\": SEO_reviewer,\n",
        "     \"message\": reflection_message,\n",
        "     \"summary_method\": \"reflection_with_llm\",\n",
        "     \"summary_args\": {\"summary_prompt\" :\n",
        "        \"Return review into as JSON object only:\"\n",
        "        \"{'Reviewer': '', 'Review': ''}. Here Reviewer should be your role\",},\n",
        "     \"max_turns\": 1},\n",
        "    {\n",
        "    \"recipient\": legal_reviewer, \"message\": reflection_message,\n",
        "     \"summary_method\": \"reflection_with_llm\",\n",
        "     \"summary_args\": {\"summary_prompt\" :\n",
        "        \"Return review into as JSON object only:\"\n",
        "        \"{'Reviewer': '', 'Review': ''}.\",},\n",
        "     \"max_turns\": 1},\n",
        "    {\"recipient\": ethics_reviewer, \"message\": reflection_message,\n",
        "     \"summary_method\": \"reflection_with_llm\",\n",
        "     \"summary_args\": {\"summary_prompt\" :\n",
        "        \"Return review into as JSON object only:\"\n",
        "        \"{'Reviewer': '', 'Review': ''}\",},\n",
        "     \"max_turns\": 1},\n",
        "     {\"recipient\": meta_reviewer,\n",
        "      \"message\": \"Aggregrate feedback from all reviewers and give final suggestions on the writing.\",\n",
        "     \"max_turns\": 1},\n",
        "]"
      ],
      "metadata": {
        "id": "5cQ9ELc84o7Q"
      },
      "execution_count": 63,
      "outputs": []
    },
    {
      "cell_type": "code",
      "source": [
        "critic.register_nested_chats(\n",
        "    review_chats,\n",
        "    trigger=writer,\n",
        ")"
      ],
      "metadata": {
        "id": "BRaKFOHx5xj8"
      },
      "execution_count": 64,
      "outputs": []
    },
    {
      "cell_type": "code",
      "source": [
        "res = critic.initiate_chat(\n",
        "    recipient=writer,\n",
        "    message=task,\n",
        "    max_turns=2,\n",
        "    summary_method=\"last_msg\"\n",
        ")"
      ],
      "metadata": {
        "colab": {
          "base_uri": "https://localhost:8080/"
        },
        "id": "Ja234LBN57Tr",
        "outputId": "487c5ba8-4033-41ee-8e03-ba8b558f864f"
      },
      "execution_count": 65,
      "outputs": [
        {
          "output_type": "stream",
          "name": "stdout",
          "text": [
            "Critic (to writer):\n",
            "\n",
            "\n",
            "        Write a concise but engaging blogpost about\n",
            "       DeepLearning.AI. Make sure the blogpost is\n",
            "       within 100 words.\n",
            "       \n",
            "\n",
            "--------------------------------------------------------------------------------\n",
            "writer (to Critic):\n",
            "\n",
            "**Unlock AI Expertise with DeepLearning.AI**  \n",
            "Founded by AI visionary Andrew Ng, DeepLearning.AI democratizes cutting-edge AI education through accessible online courses. Hosted on platforms like Coursera, its programs—from the iconic *Deep Learning Specialization* to tailored short courses—equip learners with skills in machine learning, NLP, and neural networks. Whether you’re a novice or a seasoned developer, hands-on projects and industry-relevant curricula bridge theory and practice. Join a global community reshaping healthcare, finance, and beyond with AI innovation. Ready to future-proof your skills? DeepLearning.AI turns curiosity into expertise—one algorithm at a time. Start your journey today. (99 words)\n",
            "\n",
            "--------------------------------------------------------------------------------\n",
            "\n",
            "********************************************************************************\n",
            "Starting a new chat....\n",
            "\n",
            "********************************************************************************\n",
            "Critic (to SEOReviewer):\n",
            "\n",
            "Review the following content. \n",
            "            \n",
            "\n",
            " **Unlock AI Expertise with DeepLearning.AI**  \n",
            "Founded by AI visionary Andrew Ng, DeepLearning.AI democratizes cutting-edge AI education through accessible online courses. Hosted on platforms like Coursera, its programs—from the iconic *Deep Learning Specialization* to tailored short courses—equip learners with skills in machine learning, NLP, and neural networks. Whether you’re a novice or a seasoned developer, hands-on projects and industry-relevant curricula bridge theory and practice. Join a global community reshaping healthcare, finance, and beyond with AI innovation. Ready to future-proof your skills? DeepLearning.AI turns curiosity into expertise—one algorithm at a time. Start your journey today. (99 words)\n",
            "\n",
            "--------------------------------------------------------------------------------\n",
            "SEOReviewer (to Critic):\n",
            "\n",
            "**As an SEO reviewer**, here’s my concise feedback to boost organic visibility and relevance:  \n",
            "1. **Title Optimization**: Add “Online Courses” to the title (*e.g., “Unlock AI Expertise with DeepLearning.AI Online Courses”*) to target high-volume keywords like “AI courses” or “machine learning courses.”  \n",
            "2. **Keyword Reinforcement**: Replace “Hosted on platforms like Coursera” with “Coursera-based courses” to emphasize the platform (a popular search term) and add “beginner-friendly AI certifications” to attract broader intent.  \n",
            "3. **CTA & Readability**: Swap “Start your journey today” with a keyword-rich CTA like “Enroll Now on Coursera” for higher click-through rates, and simplify phrases like “industry-relevant curricula” to “industry-aligned courses” for better readability and SEO.  \n",
            "\n",
            "Subtle tweaks to align with search intent while maintaining the original tone!\n",
            "\n",
            "--------------------------------------------------------------------------------\n",
            "\n",
            "********************************************************************************\n",
            "Starting a new chat....\n",
            "\n",
            "********************************************************************************\n",
            "Critic (to LegalReviewer):\n",
            "\n",
            "Review the following content. \n",
            "            \n",
            "\n",
            " **Unlock AI Expertise with DeepLearning.AI**  \n",
            "Founded by AI visionary Andrew Ng, DeepLearning.AI democratizes cutting-edge AI education through accessible online courses. Hosted on platforms like Coursera, its programs—from the iconic *Deep Learning Specialization* to tailored short courses—equip learners with skills in machine learning, NLP, and neural networks. Whether you’re a novice or a seasoned developer, hands-on projects and industry-relevant curricula bridge theory and practice. Join a global community reshaping healthcare, finance, and beyond with AI innovation. Ready to future-proof your skills? DeepLearning.AI turns curiosity into expertise—one algorithm at a time. Start your journey today. (99 words)\n",
            "Context: \n",
            "```json\n",
            "{\n",
            "  \"Reviewer\": \"SEO Reviewer\",\n",
            "  \"Review\": \"Proposed SEO optimizations include revising the title to 'Unlock AI Expertise with DeepLearning.AI Online Courses' for keyword targeting, emphasizing 'Coursera-based courses' and 'beginner-friendly AI certifications' to align with search intent, and refining the CTA to 'Enroll Now on Coursera' for higher click-through rates. Simplified phrasing (e.g., 'industry-aligned courses') balances readability with keyword integration while preserving the content's original tone.\"\n",
            "}\n",
            "```\n",
            "\n",
            "--------------------------------------------------------------------------------\n",
            "LegalReviewer (to Critic):\n",
            "\n",
            "**Legal Reviewer**: Ensuring compliance and mitigating risks:  \n",
            "1. **Trademark Compliance**: Verify explicit permission to use \"Coursera\" and ensure ®/TM symbols accompany registered trademarks if required.  \n",
            "2. **Claim Substantiation**: Avoid potential overstatements (e.g., \"future-proof your skills,\" \"industry-relevant curricula\") unless backed by verifiable data or disclaimers.  \n",
            "3. **CTA Compliance**: Ensure \"Enroll Now on Coursera\" aligns with platform terms and discloses material connections (e.g., affiliate partnerships) if applicable under FTC/regional guidelines.\n",
            "\n",
            "--------------------------------------------------------------------------------\n",
            "\n",
            "********************************************************************************\n",
            "Starting a new chat....\n",
            "\n",
            "********************************************************************************\n",
            "Critic (to EthicsReviewer):\n",
            "\n",
            "Review the following content. \n",
            "            \n",
            "\n",
            " **Unlock AI Expertise with DeepLearning.AI**  \n",
            "Founded by AI visionary Andrew Ng, DeepLearning.AI democratizes cutting-edge AI education through accessible online courses. Hosted on platforms like Coursera, its programs—from the iconic *Deep Learning Specialization* to tailored short courses—equip learners with skills in machine learning, NLP, and neural networks. Whether you’re a novice or a seasoned developer, hands-on projects and industry-relevant curricula bridge theory and practice. Join a global community reshaping healthcare, finance, and beyond with AI innovation. Ready to future-proof your skills? DeepLearning.AI turns curiosity into expertise—one algorithm at a time. Start your journey today. (99 words)\n",
            "Context: \n",
            "```json\n",
            "{\n",
            "  \"Reviewer\": \"SEO Reviewer\",\n",
            "  \"Review\": \"Proposed SEO optimizations include revising the title to 'Unlock AI Expertise with DeepLearning.AI Online Courses' for keyword targeting, emphasizing 'Coursera-based courses' and 'beginner-friendly AI certifications' to align with search intent, and refining the CTA to 'Enroll Now on Coursera' for higher click-through rates. Simplified phrasing (e.g., 'industry-aligned courses') balances readability with keyword integration while preserving the content's original tone.\"\n",
            "}\n",
            "```\n",
            "```json\n",
            "{\n",
            "  \"Reviewer\": \"Legal Reviewer\",\n",
            "  \"Review\": \"Key legal considerations: Ensure explicit permission and proper trademark usage (e.g., 'Coursera®') with required symbols. Qualify aspirational claims like 'future-proof your skills' or 'industry-relevant curricula' with disclaimers to avoid overstatement risks. Verify that 'Enroll Now on Coursera' adheres to Coursera's terms of service and includes necessary disclosures (e.g., affiliate partnerships) under FTC or regional advertising regulations to maintain transparency and compliance.\"\n",
            "}\n",
            "```\n",
            "\n",
            "--------------------------------------------------------------------------------\n",
            "EthicsReviewer (to Critic):\n",
            "\n",
            "**Ethics Reviewer**  \n",
            "- **Mitigate overpromising**: Add a disclaimer (e.g., \"Results may vary based on effort and background\") to claims like \"future-proof your skills\" to avoid implying guaranteed outcomes.  \n",
            "- **Address ethical AI implications**: Include a brief reference to \"responsible AI practices\" or \"ethical frameworks\" in courses, given the mention of reshaping sensitive sectors like healthcare.  \n",
            "- **Transparency in accessibility**: Clarify if \"democratizes AI education\" includes financial aid, prerequisites, or regional restrictions to ensure inclusivity aligns with stated values.\n",
            "\n",
            "--------------------------------------------------------------------------------\n",
            "\n",
            "********************************************************************************\n",
            "Starting a new chat....\n",
            "\n",
            "********************************************************************************\n",
            "Critic (to MetaReviewer):\n",
            "\n",
            "Aggregrate feedback from all reviewers and give final suggestions on the writing.\n",
            "Context: \n",
            "```json\n",
            "{\n",
            "  \"Reviewer\": \"SEO Reviewer\",\n",
            "  \"Review\": \"Proposed SEO optimizations include revising the title to 'Unlock AI Expertise with DeepLearning.AI Online Courses' for keyword targeting, emphasizing 'Coursera-based courses' and 'beginner-friendly AI certifications' to align with search intent, and refining the CTA to 'Enroll Now on Coursera' for higher click-through rates. Simplified phrasing (e.g., 'industry-aligned courses') balances readability with keyword integration while preserving the content's original tone.\"\n",
            "}\n",
            "```\n",
            "```json\n",
            "{\n",
            "  \"Reviewer\": \"Legal Reviewer\",\n",
            "  \"Review\": \"Key legal considerations: Ensure explicit permission and proper trademark usage (e.g., 'Coursera®') with required symbols. Qualify aspirational claims like 'future-proof your skills' or 'industry-relevant curricula' with disclaimers to avoid overstatement risks. Verify that 'Enroll Now on Coursera' adheres to Coursera's terms of service and includes necessary disclosures (e.g., affiliate partnerships) under FTC or regional advertising regulations to maintain transparency and compliance.\"\n",
            "}\n",
            "```\n",
            "```json\n",
            "{\n",
            "  \"Reviewer\": \"Ethics Reviewer\",\n",
            "  \"Review\": \"Mitigate overpromising by adding a disclaimer (e.g., 'Results may vary based on effort and background') to claims like 'future-proof your skills'. Address ethical AI implications by referencing 'responsible AI practices' in course descriptions, especially for sectors like healthcare. Ensure transparency in accessibility by clarifying if 'democratizes AI education' includes financial aid, prerequisites, or regional restrictions to uphold inclusivity.\"\n",
            "}\n",
            "```\n",
            "\n",
            "--------------------------------------------------------------------------------\n",
            "MetaReviewer (to Critic):\n",
            "\n",
            "**Meta Review & Final Recommendations**  \n",
            "\n",
            "**1. SEO Optimization with Legal/Ethical Compliance:**  \n",
            "- **Title Revision:** Adopt *\"Unlock AI Expertise with DeepLearning.AI Online Courses\"* (as suggested by SEO), but ensure **Coursera®** is trademarked (Legal Reviewer).  \n",
            "- **Keyword Integration:** Use *\"Coursera®-based courses\"* and *\"beginner-friendly AI certifications\"* to balance SEO and trademark compliance.  \n",
            "- **CTA Revision:** Change to *\"Enroll Now on Coursera®\"* (trademark symbol added) to maintain click-through rates while adhering to branding guidelines.  \n",
            "\n",
            "**2. Legal Safeguards & Disclaimers:**  \n",
            "- **Aspirational Claims:** Add a combined disclaimer to phrases like *\"future-proof your skills\"* and *\"industry-relevant curricula\"* to satisfy both Legal and Ethics concerns:  \n",
            "  *\"Results may vary based on effort, background, and market conditions. Course outcomes are not guaranteed.\"*  \n",
            "- **Affiliate Compliance:** Include a footer note: *\"Disclosure: We participate in Coursera’s affiliate program\"* (if applicable) to meet FTC/regional guidelines.  \n",
            "\n",
            "**3. Ethical Transparency & Clarity:**  \n",
            "- **Responsible AI:** Reference *\"ethical AI practices\"* in course descriptions (e.g., *\"courses emphasize responsible AI development for sectors like healthcare\"*).  \n",
            "- **Accessibility Details:** Clarify *\"democratizes AI education\"* with a brief note: *\"Financial aid and regional availability may apply. No prior experience required.\"*  \n",
            "\n",
            "**4. Tone & Readability Adjustments:**  \n",
            "- **Simplify Wording:** Use *\"industry-aligned courses\"* (SEO suggestion) but pair with a footer disclaimer (Legal) to avoid overstatement.  \n",
            "- **Avoid Redund\n",
            "\n",
            "--------------------------------------------------------------------------------\n",
            "Critic (to writer):\n",
            "\n",
            "**Meta Review & Final Recommendations**  \n",
            "\n",
            "**1. SEO Optimization with Legal/Ethical Compliance:**  \n",
            "- **Title Revision:** Adopt *\"Unlock AI Expertise with DeepLearning.AI Online Courses\"* (as suggested by SEO), but ensure **Coursera®** is trademarked (Legal Reviewer).  \n",
            "- **Keyword Integration:** Use *\"Coursera®-based courses\"* and *\"beginner-friendly AI certifications\"* to balance SEO and trademark compliance.  \n",
            "- **CTA Revision:** Change to *\"Enroll Now on Coursera®\"* (trademark symbol added) to maintain click-through rates while adhering to branding guidelines.  \n",
            "\n",
            "**2. Legal Safeguards & Disclaimers:**  \n",
            "- **Aspirational Claims:** Add a combined disclaimer to phrases like *\"future-proof your skills\"* and *\"industry-relevant curricula\"* to satisfy both Legal and Ethics concerns:  \n",
            "  *\"Results may vary based on effort, background, and market conditions. Course outcomes are not guaranteed.\"*  \n",
            "- **Affiliate Compliance:** Include a footer note: *\"Disclosure: We participate in Coursera’s affiliate program\"* (if applicable) to meet FTC/regional guidelines.  \n",
            "\n",
            "**3. Ethical Transparency & Clarity:**  \n",
            "- **Responsible AI:** Reference *\"ethical AI practices\"* in course descriptions (e.g., *\"courses emphasize responsible AI development for sectors like healthcare\"*).  \n",
            "- **Accessibility Details:** Clarify *\"democratizes AI education\"* with a brief note: *\"Financial aid and regional availability may apply. No prior experience required.\"*  \n",
            "\n",
            "**4. Tone & Readability Adjustments:**  \n",
            "- **Simplify Wording:** Use *\"industry-aligned courses\"* (SEO suggestion) but pair with a footer disclaimer (Legal) to avoid overstatement.  \n",
            "- **Avoid Redund\n",
            "\n",
            "--------------------------------------------------------------------------------\n",
            "writer (to Critic):\n",
            "\n",
            "**Unlock AI Expertise with DeepLearning.AI Online Courses**  \n",
            "Founded by AI pioneer Andrew Ng, DeepLearning.AI delivers beginner-friendly AI certifications and Coursera®-based courses, democratizing cutting-edge education. Programs like the *Deep Learning Specialization* and hands-on projects teach machine learning, NLP, and ethical AI practices for sectors like healthcare. Industry-aligned curricula cater to all skill levels, bridging theory and real-world impact. Ready to advance your skills?\n",
            "\n",
            "--------------------------------------------------------------------------------\n"
          ]
        }
      ]
    },
    {
      "cell_type": "code",
      "source": [
        "print(res.summary)"
      ],
      "metadata": {
        "colab": {
          "base_uri": "https://localhost:8080/"
        },
        "id": "rJsVS6W45---",
        "outputId": "562f9ca4-1be4-4fde-a180-63bebc7192ee"
      },
      "execution_count": 66,
      "outputs": [
        {
          "output_type": "stream",
          "name": "stdout",
          "text": [
            "**Unlock AI Expertise with DeepLearning.AI Online Courses**  \n",
            "Founded by AI pioneer Andrew Ng, DeepLearning.AI delivers beginner-friendly AI certifications and Coursera®-based courses, democratizing cutting-edge education. Programs like the *Deep Learning Specialization* and hands-on projects teach machine learning, NLP, and ethical AI practices for sectors like healthcare. Industry-aligned curricula cater to all skill levels, bridging theory and real-world impact. Ready to advance your skills?\n"
          ]
        }
      ]
    },
    {
      "cell_type": "code",
      "source": [],
      "metadata": {
        "id": "WYR-Gbn3-etx"
      },
      "execution_count": null,
      "outputs": []
    }
  ]
}